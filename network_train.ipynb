{
 "cells": [
  {
   "cell_type": "markdown",
   "metadata": {},
   "source": [
    "# Fruit Network v0.1 - Training Notebook\n",
    "\n",
    "This is the notebook used for training the FruitNetwork <br>\n",
    "Batch size should be ajusted to fit in the GPU's memory (if using cuda)\n",
    "\n",
    "This notebook uses the GPU for most of the work, remove all `.cuda()` to use the CPU (might be slow)"
   ]
  },
  {
   "cell_type": "markdown",
   "metadata": {},
   "source": [
    "### 1. Importing used libraries"
   ]
  },
  {
   "cell_type": "code",
   "execution_count": 1,
   "metadata": {},
   "outputs": [],
   "source": [
    "from torchvision.datasets import ImageFolder\n",
    "from torchvision import transforms\n",
    "import torch\n",
    "from torch import nn\n",
    "from torch.utils.data import DataLoader\n",
    "import matplotlib.pyplot as plt\n",
    "from utils import plot_batch, calculate_loss_and_accuracy\n",
    "from custom_tranforms import AddRandomBackground, RandomZoom\n",
    "from FruitModel import FruitModel"
   ]
  },
  {
   "cell_type": "markdown",
   "metadata": {},
   "source": [
    "### 2. Setting up hyperparameters and transforms"
   ]
  },
  {
   "cell_type": "code",
   "execution_count": 2,
   "metadata": {},
   "outputs": [],
   "source": [
    "batch_size = 512\n",
    "learning_rate = 0.001"
   ]
  },
  {
   "cell_type": "code",
   "execution_count": 3,
   "metadata": {},
   "outputs": [],
   "source": [
    "# Data augmnetation inserted into the network\n",
    "\n",
    "train_transforms = transforms.Compose([\n",
    "    transforms.RandomHorizontalFlip(p=0.5),\n",
    "    transforms.RandomRotation((-45, 45), fill=255),\n",
    "    RandomZoom((-60, 20)),\n",
    "    AddRandomBackground((150, 180)),\n",
    "    transforms.RandomGrayscale(p=0.1),\n",
    "    transforms.ToTensor()\n",
    "])"
   ]
  },
  {
   "cell_type": "markdown",
   "metadata": {},
   "source": [
    "### 3. Loading data (Train and Test set)"
   ]
  },
  {
   "cell_type": "code",
   "execution_count": 4,
   "metadata": {},
   "outputs": [],
   "source": [
    "validation_transforms = transforms.Compose([\n",
    "    transforms.ToTensor()\n",
    "])"
   ]
  },
  {
   "cell_type": "code",
   "execution_count": 5,
   "metadata": {},
   "outputs": [],
   "source": [
    "train_data = ImageFolder('fruits-360/Training', train_transforms)"
   ]
  },
  {
   "cell_type": "code",
   "execution_count": 6,
   "metadata": {},
   "outputs": [],
   "source": [
    "test_data = ImageFolder('fruits-360/Test', validation_transforms)"
   ]
  },
  {
   "cell_type": "code",
   "execution_count": 7,
   "metadata": {},
   "outputs": [],
   "source": [
    "train_loader = DataLoader(train_data, batch_size=batch_size, num_workers=0, shuffle=True)"
   ]
  },
  {
   "cell_type": "code",
   "execution_count": 8,
   "metadata": {},
   "outputs": [],
   "source": [
    "test_loader = DataLoader(test_data, batch_size=batch_size, num_workers=0, shuffle=True)"
   ]
  },
  {
   "cell_type": "markdown",
   "metadata": {},
   "source": [
    "### 4. Loading the network (and loading preTrained model - optional), criterion and optimizer"
   ]
  },
  {
   "cell_type": "code",
   "execution_count": 9,
   "metadata": {},
   "outputs": [],
   "source": [
    "model = FruitModel()\n",
    "model.load_state_dict(torch.load('models/fruit_bg_net.pt')['state_dict'])\n",
    "model = model.cuda()"
   ]
  },
  {
   "cell_type": "code",
   "execution_count": 10,
   "metadata": {},
   "outputs": [],
   "source": [
    "criterion = nn.CrossEntropyLoss()"
   ]
  },
  {
   "cell_type": "code",
   "execution_count": 11,
   "metadata": {},
   "outputs": [],
   "source": [
    "optimizer = torch.optim.SGD(model.parameters(), lr=learning_rate, momentum=0.9)"
   ]
  },
  {
   "cell_type": "markdown",
   "metadata": {},
   "source": [
    "### 5. Training"
   ]
  },
  {
   "cell_type": "code",
   "execution_count": 12,
   "metadata": {},
   "outputs": [],
   "source": [
    "def train(epochs):\n",
    "    \"\"\"\n",
    "        Function to train the network for {epoch} epochs.\n",
    "        Trains data in minibatches, and after each full epoch calculates\n",
    "        the loss and accuracy for the train and test dataset\n",
    "\n",
    "    Arguments:\n",
    "        epochs {int} -- number of epochs to be trained\n",
    "\n",
    "    Returns:\n",
    "        acc {float} -- last computed validation (test) accuracy\n",
    "    \"\"\"\n",
    "    \n",
    "    print(\"Trainning is about to start...\")\n",
    "\n",
    "    # Prints loss 5 times per epoch\n",
    "    print_every = len(train_loader)//5\n",
    "\n",
    "    for epoch in range(1, epochs+1):\n",
    "        print('---- EPOCH {} ----'.format(epoch))\n",
    "        step = 0\n",
    "        for i, (inputs, labels) in enumerate(train_loader):\n",
    "            \n",
    "            model.train()\n",
    "\n",
    "            if torch.cuda.is_available():\n",
    "                inputs = inputs.cuda()\n",
    "                labels = labels.cuda()\n",
    "\n",
    "            optimizer.zero_grad()\n",
    "            outputs = model(inputs)\n",
    "            loss = criterion(outputs, labels)\n",
    "            loss.backward()\n",
    "            optimizer.step()\n",
    "\n",
    "            step += 1\n",
    "\n",
    "            if step % print_every == 0:\n",
    "                print('[{}] Step {}: Loss: {}'.format(epoch, step, loss))\n",
    "        model.eval()\n",
    "\n",
    "        _, train_acc = calculate_loss_and_accuracy(train_loader, model, criterion)\n",
    "        _, test_acc = calculate_loss_and_accuracy(test_loader, model, criterion)\n",
    "        print('Epoch {} - Train Acc: {:.2f} Validation Acc: {:.2f}'.format(epoch, train_acc, test_acc))\n",
    "\n",
    "    return test_acc"
   ]
  },
  {
   "cell_type": "code",
   "execution_count": 17,
   "metadata": {},
   "outputs": [
    {
     "output_type": "stream",
     "name": "stdout",
     "text": "Trainning is about to start...\n---- EPOCH 1 ----\n[1] Step 100: Loss: 0.5863775014877319\nEpoch 1 - Train Acc: 91.47 Validation Acc: 94.47\n---- EPOCH 2 ----\n[2] Step 100: Loss: 0.5792826414108276\nEpoch 2 - Train Acc: 91.08 Validation Acc: 95.57\n---- EPOCH 3 ----\n[3] Step 100: Loss: 0.6074717044830322\nEpoch 3 - Train Acc: 90.56 Validation Acc: 94.86\n---- EPOCH 4 ----\n[4] Step 100: Loss: 0.5511271357536316\nEpoch 4 - Train Acc: 90.69 Validation Acc: 94.27\n---- EPOCH 5 ----\n[5] Step 100: Loss: 0.6116474866867065\nEpoch 5 - Train Acc: 91.15 Validation Acc: 95.51\n---- EPOCH 6 ----\n[6] Step 100: Loss: 0.6005362868309021\nEpoch 6 - Train Acc: 91.15 Validation Acc: 94.47\n---- EPOCH 7 ----\n[7] Step 100: Loss: 0.5901138782501221\nEpoch 7 - Train Acc: 91.02 Validation Acc: 95.31\n---- EPOCH 8 ----\n[8] Step 100: Loss: 0.5696591138839722\nEpoch 8 - Train Acc: 89.32 Validation Acc: 95.57\n---- EPOCH 9 ----\n[9] Step 100: Loss: 0.5146848559379578\nEpoch 9 - Train Acc: 91.93 Validation Acc: 95.64\n---- EPOCH 10 ----\n[10] Step 100: Loss: 0.4394261837005615\nEpoch 10 - Train Acc: 91.67 Validation Acc: 95.57\n---- EPOCH 11 ----\n[11] Step 100: Loss: 0.578999936580658\nEpoch 11 - Train Acc: 91.34 Validation Acc: 95.44\n---- EPOCH 12 ----\n[12] Step 100: Loss: 0.5283885598182678\nEpoch 12 - Train Acc: 91.28 Validation Acc: 95.83\n---- EPOCH 13 ----\n[13] Step 100: Loss: 0.5281648635864258\nEpoch 13 - Train Acc: 93.10 Validation Acc: 95.25\n---- EPOCH 14 ----\n[14] Step 100: Loss: 0.560330867767334\nEpoch 14 - Train Acc: 91.34 Validation Acc: 96.03\n---- EPOCH 15 ----\n[15] Step 100: Loss: 0.5858218669891357\nEpoch 15 - Train Acc: 91.21 Validation Acc: 95.25\n---- EPOCH 16 ----\n[16] Step 100: Loss: 0.5601924061775208\nEpoch 16 - Train Acc: 91.67 Validation Acc: 95.51\n---- EPOCH 17 ----\n[17] Step 100: Loss: 0.5816132426261902\nEpoch 17 - Train Acc: 90.04 Validation Acc: 95.25\n---- EPOCH 18 ----\n[18] Step 100: Loss: 0.548770546913147\nEpoch 18 - Train Acc: 92.25 Validation Acc: 96.22\n---- EPOCH 19 ----\n[19] Step 100: Loss: 0.5278767943382263\nEpoch 19 - Train Acc: 91.21 Validation Acc: 95.77\n---- EPOCH 20 ----\n[20] Step 100: Loss: 0.5692216753959656\nEpoch 20 - Train Acc: 91.08 Validation Acc: 96.35\n---- EPOCH 21 ----\n[21] Step 100: Loss: 0.4645203948020935\nEpoch 21 - Train Acc: 91.41 Validation Acc: 96.35\n---- EPOCH 22 ----\n[22] Step 100: Loss: 0.48557934165000916\nEpoch 22 - Train Acc: 90.89 Validation Acc: 96.22\n---- EPOCH 23 ----\n[23] Step 100: Loss: 0.5192444920539856\nEpoch 23 - Train Acc: 91.28 Validation Acc: 95.77\n---- EPOCH 24 ----\n[24] Step 100: Loss: 0.5155278444290161\nEpoch 24 - Train Acc: 92.38 Validation Acc: 95.90\n---- EPOCH 25 ----\n[25] Step 100: Loss: 0.6100507378578186\nEpoch 25 - Train Acc: 91.60 Validation Acc: 95.83\n---- EPOCH 26 ----\n[26] Step 100: Loss: 0.5824956297874451\nEpoch 26 - Train Acc: 91.60 Validation Acc: 95.38\n---- EPOCH 27 ----\n[27] Step 100: Loss: 0.5476202964782715\nEpoch 27 - Train Acc: 90.69 Validation Acc: 96.42\n---- EPOCH 28 ----\n[28] Step 100: Loss: 0.522896945476532\nEpoch 28 - Train Acc: 92.19 Validation Acc: 95.77\n---- EPOCH 29 ----\n[29] Step 100: Loss: 0.4855172038078308\nEpoch 29 - Train Acc: 90.95 Validation Acc: 95.70\n---- EPOCH 30 ----\n[30] Step 100: Loss: 0.566265881061554\nEpoch 30 - Train Acc: 91.08 Validation Acc: 95.83\nTrainning is about to start...\n---- EPOCH 1 ----\n[1] Step 100: Loss: 0.49051597714424133\nEpoch 1 - Train Acc: 91.41 Validation Acc: 95.90\n---- EPOCH 2 ----\n[2] Step 100: Loss: 0.5409761667251587\nEpoch 2 - Train Acc: 91.60 Validation Acc: 95.90\n---- EPOCH 3 ----\n[3] Step 100: Loss: 0.5281027555465698\nEpoch 3 - Train Acc: 91.21 Validation Acc: 95.64\n---- EPOCH 4 ----\n[4] Step 100: Loss: 0.5142855048179626\nEpoch 4 - Train Acc: 91.47 Validation Acc: 96.61\n---- EPOCH 5 ----\n[5] Step 100: Loss: 0.4687711000442505\nEpoch 5 - Train Acc: 91.41 Validation Acc: 96.61\n---- EPOCH 6 ----\n[6] Step 100: Loss: 0.4488026797771454\nEpoch 6 - Train Acc: 91.73 Validation Acc: 95.64\n---- EPOCH 7 ----\n[7] Step 100: Loss: 0.48944076895713806\nEpoch 7 - Train Acc: 92.19 Validation Acc: 96.29\n---- EPOCH 8 ----\n[8] Step 100: Loss: 0.5060372352600098\nEpoch 8 - Train Acc: 90.69 Validation Acc: 95.70\n---- EPOCH 9 ----\n[9] Step 100: Loss: 0.5370439291000366\nEpoch 9 - Train Acc: 90.82 Validation Acc: 96.88\n---- EPOCH 10 ----\n[10] Step 100: Loss: 0.6037328243255615\nEpoch 10 - Train Acc: 91.73 Validation Acc: 96.35\n---- EPOCH 11 ----\n[11] Step 100: Loss: 0.5292139053344727\nEpoch 11 - Train Acc: 91.47 Validation Acc: 96.74\n---- EPOCH 12 ----\n[12] Step 100: Loss: 0.5154735445976257\nEpoch 12 - Train Acc: 92.32 Validation Acc: 96.35\n---- EPOCH 13 ----\n[13] Step 100: Loss: 0.5110461711883545\nEpoch 13 - Train Acc: 92.25 Validation Acc: 96.48\n---- EPOCH 14 ----\n[14] Step 100: Loss: 0.5581521391868591\nEpoch 14 - Train Acc: 90.82 Validation Acc: 95.96\n---- EPOCH 15 ----\n[15] Step 100: Loss: 0.575278103351593\nEpoch 15 - Train Acc: 91.93 Validation Acc: 96.22\n---- EPOCH 16 ----\n[16] Step 100: Loss: 0.48102298378944397\nEpoch 16 - Train Acc: 91.86 Validation Acc: 94.79\n---- EPOCH 17 ----\n[17] Step 100: Loss: 0.47226250171661377\nEpoch 17 - Train Acc: 91.21 Validation Acc: 96.03\n---- EPOCH 18 ----\n[18] Step 100: Loss: 0.5011343955993652\nEpoch 18 - Train Acc: 91.34 Validation Acc: 95.96\n---- EPOCH 19 ----\n[19] Step 100: Loss: 0.5200819373130798\nEpoch 19 - Train Acc: 91.86 Validation Acc: 96.16\n---- EPOCH 20 ----\n[20] Step 100: Loss: 0.5280188322067261\nEpoch 20 - Train Acc: 91.15 Validation Acc: 96.55\n---- EPOCH 21 ----\n[21] Step 100: Loss: 0.48106253147125244\nEpoch 21 - Train Acc: 91.54 Validation Acc: 96.68\n---- EPOCH 22 ----\n[22] Step 100: Loss: 0.6154523491859436\nEpoch 22 - Train Acc: 90.23 Validation Acc: 96.74\n---- EPOCH 23 ----\n[23] Step 100: Loss: 0.5851331353187561\nEpoch 23 - Train Acc: 91.86 Validation Acc: 96.22\n---- EPOCH 24 ----\n[24] Step 100: Loss: 0.4796522259712219\nEpoch 24 - Train Acc: 91.47 Validation Acc: 95.64\n---- EPOCH 25 ----\n[25] Step 100: Loss: 0.5879594683647156\nEpoch 25 - Train Acc: 91.21 Validation Acc: 95.96\n---- EPOCH 26 ----\n[26] Step 100: Loss: 0.5274931192398071\nEpoch 26 - Train Acc: 91.60 Validation Acc: 95.05\n---- EPOCH 27 ----\n[27] Step 100: Loss: 0.48816579580307007\nEpoch 27 - Train Acc: 92.25 Validation Acc: 95.25\n---- EPOCH 28 ----\n[28] Step 100: Loss: 0.4795870780944824\nEpoch 28 - Train Acc: 91.34 Validation Acc: 96.68\n---- EPOCH 29 ----\n[29] Step 100: Loss: 0.4972826838493347\nEpoch 29 - Train Acc: 91.02 Validation Acc: 96.74\n---- EPOCH 30 ----\n[30] Step 100: Loss: 0.526324987411499\nEpoch 30 - Train Acc: 91.93 Validation Acc: 95.77\n"
    }
   ],
   "source": [
    "learning_rate = 0.0001\n",
    "optimizer = torch.optim.SGD(model.parameters(), lr=learning_rate, momentum=0.9)\n",
    "acc = train(30)\n",
    "learning_rate = learning_rate / 10\n",
    "optimizer = torch.optim.SGD(model.parameters(), lr=learning_rate, momentum=0.9)\n",
    "acc = train(30)"
   ]
  },
  {
   "cell_type": "markdown",
   "metadata": {},
   "source": [
    "### 6. Saving the trained network"
   ]
  },
  {
   "cell_type": "code",
   "execution_count": 19,
   "metadata": {},
   "outputs": [],
   "source": [
    "torch.save({'state_dict':model.state_dict(), 'acc': acc}, 'models/fruit_bg_net.pt')"
   ]
  },
  {
   "cell_type": "code",
   "execution_count": null,
   "metadata": {},
   "outputs": [],
   "source": []
  }
 ],
 "metadata": {
  "language_info": {
   "codemirror_mode": {
    "name": "ipython",
    "version": 3
   },
   "file_extension": ".py",
   "mimetype": "text/x-python",
   "name": "python",
   "nbconvert_exporter": "python",
   "pygments_lexer": "ipython3",
   "version": "3.8.1-final"
  },
  "orig_nbformat": 2,
  "kernelspec": {
   "name": "python3",
   "display_name": "Python 3"
  }
 },
 "nbformat": 4,
 "nbformat_minor": 2
}