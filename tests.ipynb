{
 "cells": [
  {
   "cell_type": "code",
   "execution_count": 1,
   "metadata": {},
   "outputs": [],
   "source": [
    "from torchvision.datasets import ImageFolder\n",
    "from torchvision import transforms\n",
    "import torch\n",
    "from torch import nn\n",
    "from torch.utils.data import DataLoader\n",
    "import matplotlib.pyplot as plt\n",
    "from utils import plot_batch, calculate_loss_and_accuracy\n",
    "from FruitModel import FruitModel"
   ]
  },
  {
   "cell_type": "code",
   "execution_count": 2,
   "metadata": {},
   "outputs": [],
   "source": [
    "batch_size = 512"
   ]
  },
  {
   "cell_type": "code",
   "execution_count": 3,
   "metadata": {},
   "outputs": [],
   "source": [
    "train_transforms = transforms.Compose([\n",
    "    transforms.ColorJitter(.15,.15,.15,.15),\n",
    "    transforms.RandomGrayscale(p=0.15),\n",
    "    transforms.Pad(25, fill=(255,255,255)),\n",
    "    transforms.RandomCrop(100),\n",
    "    transforms.RandomHorizontalFlip(p=0.5),\n",
    "    transforms.RandomRotation(25),\n",
    "    transforms.ToTensor()\n",
    "])"
   ]
  },
  {
   "cell_type": "code",
   "execution_count": 4,
   "metadata": {},
   "outputs": [],
   "source": [
    "validation_transforms = transforms.Compose([\n",
    "    transforms.ToTensor()\n",
    "])"
   ]
  },
  {
   "cell_type": "code",
   "execution_count": 5,
   "metadata": {},
   "outputs": [],
   "source": [
    "train_data = ImageFolder('fruits-360/Training', validation_transforms)"
   ]
  },
  {
   "cell_type": "code",
   "execution_count": 6,
   "metadata": {},
   "outputs": [],
   "source": [
    "test_data = ImageFolder('fruits-360/Test', validation_transforms)"
   ]
  },
  {
   "cell_type": "code",
   "execution_count": 7,
   "metadata": {},
   "outputs": [],
   "source": [
    "train_loader = DataLoader(train_data, batch_size=batch_size, num_workers=0, shuffle=True)"
   ]
  },
  {
   "cell_type": "code",
   "execution_count": 8,
   "metadata": {},
   "outputs": [],
   "source": [
    "test_loader = DataLoader(test_data, batch_size=batch_size, num_workers=0, shuffle=True)"
   ]
  },
  {
   "cell_type": "markdown",
   "metadata": {},
   "source": [
    "batch, labels = next(iter(train_loader))\n",
    "plot_batch(batch, 3, 3)"
   ]
  },
  {
   "cell_type": "code",
   "execution_count": 9,
   "metadata": {},
   "outputs": [],
   "source": [
    "model = FruitModel()\n",
    "model.load_state_dict(torch.load('models/fruit_light_net.pt')['state_dict'])\n",
    "model = model.cuda()"
   ]
  },
  {
   "cell_type": "code",
   "execution_count": 10,
   "metadata": {},
   "outputs": [],
   "source": [
    "criterion = nn.CrossEntropyLoss()"
   ]
  },
  {
   "cell_type": "code",
   "execution_count": 11,
   "metadata": {},
   "outputs": [],
   "source": [
    "learning_rate = 0.001\n",
    "optimizer = torch.optim.SGD(model.parameters(), lr=learning_rate, momentum=0.9)"
   ]
  },
  {
   "cell_type": "code",
   "execution_count": 12,
   "metadata": {},
   "outputs": [],
   "source": [
    "def train(epochs):\n",
    "    \n",
    "    print(\"Trainning is about to start...\")\n",
    "\n",
    "    for epoch in range(1, epochs+1):\n",
    "        print('---- EPOCH {} ----'.format(epoch))\n",
    "        step = 0\n",
    "        for i, (inputs, labels) in enumerate(train_loader):\n",
    "            \n",
    "            model.train()\n",
    "\n",
    "            if torch.cuda.is_available():\n",
    "                inputs = inputs.cuda()\n",
    "                labels = labels.cuda()\n",
    "\n",
    "            optimizer.zero_grad()\n",
    "            outputs = model(inputs)\n",
    "            loss = criterion(outputs, labels)\n",
    "            loss.backward()\n",
    "            optimizer.step()\n",
    "\n",
    "            step += 1\n",
    "\n",
    "            if step % 100 == 0:\n",
    "                print('[{}] Step {}: Loss: {}'.format(epoch, step, loss))\n",
    "        model.eval()\n",
    "        _, train_acc = calculate_loss_and_accuracy(train_loader, model, criterion)\n",
    "        _, test_acc = calculate_loss_and_accuracy(test_loader, model, criterion)\n",
    "        print('Epoch {} - Train Acc: {:.2f} Validation Acc: {:.2f}'.format(epoch, train_acc, test_acc))\n",
    "    return test_acc"
   ]
  },
  {
   "cell_type": "code",
   "execution_count": 13,
   "metadata": {},
   "outputs": [
    {
     "output_type": "stream",
     "name": "stdout",
     "text": "Trainning is about to start...\n---- EPOCH 1 ----\n[1] Step 100: Loss: 4.3764495849609375\nEpoch 1 - Train Acc: 58.14 Validation Acc: 54.10\n---- EPOCH 2 ----\n[2] Step 100: Loss: 3.9979331493377686\nEpoch 2 - Train Acc: 84.44 Validation Acc: 76.76\n---- EPOCH 3 ----\n[3] Step 100: Loss: 3.633695363998413\nEpoch 3 - Train Acc: 93.36 Validation Acc: 83.72\n---- EPOCH 4 ----\n[4] Step 100: Loss: 3.3659820556640625\nEpoch 4 - Train Acc: 95.90 Validation Acc: 88.54\n---- EPOCH 5 ----\n[5] Step 100: Loss: 3.167135238647461\nEpoch 5 - Train Acc: 96.16 Validation Acc: 90.04\n---- EPOCH 6 ----\n[6] Step 100: Loss: 3.336150646209717\nEpoch 6 - Train Acc: 97.53 Validation Acc: 91.67\n---- EPOCH 7 ----\n[7] Step 100: Loss: 3.1100547313690186\nEpoch 7 - Train Acc: 98.18 Validation Acc: 92.71\n---- EPOCH 8 ----\n[8] Step 100: Loss: 3.0926501750946045\nEpoch 8 - Train Acc: 98.63 Validation Acc: 93.23\n---- EPOCH 9 ----\n[9] Step 100: Loss: 3.067779064178467\nEpoch 9 - Train Acc: 98.89 Validation Acc: 92.97\n---- EPOCH 10 ----\n[10] Step 100: Loss: 2.9085073471069336\nEpoch 10 - Train Acc: 99.35 Validation Acc: 94.21\n"
    }
   ],
   "source": [
    "acc = train(10)"
   ]
  },
  {
   "cell_type": "code",
   "execution_count": 15,
   "metadata": {},
   "outputs": [],
   "source": [
    "torch.save({'state_dict':model.state_dict(), 'acc': acc}, 'models/fruit_light_net.pt')"
   ]
  },
  {
   "cell_type": "code",
   "execution_count": null,
   "metadata": {},
   "outputs": [],
   "source": []
  }
 ],
 "metadata": {
  "language_info": {
   "codemirror_mode": {
    "name": "ipython",
    "version": 3
   },
   "file_extension": ".py",
   "mimetype": "text/x-python",
   "name": "python",
   "nbconvert_exporter": "python",
   "pygments_lexer": "ipython3",
   "version": "3.8.1-final"
  },
  "orig_nbformat": 2,
  "kernelspec": {
   "name": "python3",
   "display_name": "Python 3"
  }
 },
 "nbformat": 4,
 "nbformat_minor": 2
}